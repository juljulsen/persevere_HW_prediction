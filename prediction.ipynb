{
 "cells": [
  {
   "cell_type": "code",
   "execution_count": 2,
   "metadata": {},
   "outputs": [
    {
     "name": "stdout",
     "output_type": "stream",
     "text": [
      "Model loaded.\n",
      "Model tp. Test dataset loaded.\n",
      "0.9388278388278388 0.596262514591217 0.6688671708106995 0.6299761533737183\n"
     ]
    }
   ],
   "source": [
    "import numpy as np\n",
    "import networkx as nx\n",
    "import data,network,torch,pickle\n",
    "import matplotlib.pyplot as plt\n",
    "import torch_geometric.utils as utils\n",
    "import torch.nn.functional as F\n",
    "from torch_geometric.utils import to_networkx\n",
    "from torch_geometric.loader import DataLoader as batchLoader\n",
    "\n",
    "device = 'cpu'\n",
    "for modelIdx in [\"tp\"]:#range(33,49):\n",
    "\n",
    "    path = './trainedModel/'\n",
    "    metaPath = f'{modelIdx}_metadata.pkl'\n",
    "    modelPath = f'{modelIdx}.pt'\n",
    "    paraPath = f'{modelIdx}_para.pkl'\n",
    "\n",
    "    with open(path+metaPath,'rb') as f: metadata = pickle.load(f)\n",
    "    with open(path+paraPath,'rb') as f: modelPara,paraDict = pickle.load(f)\n",
    "    paraDict['device'] = torch.device(device)\n",
    "    checkPoint = torch.load(path+modelPath,map_location=torch.device(device))\n",
    "    model = network.modelSelect(modelPara).to(device)\n",
    "    model.load_state_dict(checkPoint['model_state_dict'])\n",
    "    model.eval()\n",
    "    print(\"Model loaded.\")\n",
    "\n",
    "    FTG = data.FTGenerator(paraDict,metadata)\n",
    "    Dataset,metadata = FTG.createDataset()\n",
    "    _,location = FTG._constructRawData()\n",
    "    testSet = Dataset[-730:]\n",
    "    # testSet = [Dataset[-1]]\n",
    "    nClass = metadata['nClass']\n",
    "    nNodes = testSet[0].x.shape[0]\n",
    "    print(f\"Model {modelIdx}. Test dataset loaded.\")\n",
    "\n",
    "    testLoader = batchLoader(testSet,batch_size=len(testSet),shuffle=False)\n",
    "\n",
    "    for batch in testLoader:\n",
    "        _yHat,_weights = model(batch.x,batch.edge_index,batch.edge_attr)\n",
    "        # Pick the last three days only\n",
    "        _yHat = _yHat[:,-6:]  \n",
    "        _truth = batch.y[:,-3:].reshape(-1) \n",
    "        _yHat = _yHat.reshape(-1,nClass)\n",
    "        _pred = torch.argmax(_yHat,axis=-1)\n",
    "        _correct = _pred == _truth\n",
    "            \n",
    "        _accu = int(_correct.sum())/len(_truth)\n",
    "\n",
    "        _tP = (_truth==1).reshape(-1,nNodes)\n",
    "        _tN = (_truth==0).reshape(-1,nNodes)\n",
    "        _pP = (_pred==1).reshape(-1,nNodes)\n",
    "        _pN = (_pred==0).reshape(-1,nNodes)\n",
    "        \n",
    "        _TP = torch.sum(_tP & _pP,axis=0)\n",
    "        _FN = torch.sum(_tP & _pN,axis=0)\n",
    "        _FP = torch.sum(_tN & _pP,axis=0)\n",
    "        _TN = torch.sum(_tN & _pN,axis=0)\n",
    "\n",
    "        _recall = _TP/(_TP+_FN)\n",
    "        _prec   = _TP/(_TP+_FP)\n",
    "        _f1     = 2*_TP/(2*_TP+_FP+_FN)\n",
    "        print(_accu,_recall.mean().item(),_prec.mean().item(),_f1.mean().item())\n",
    "        with open('record2','a') as f:\n",
    "            print(_accu,_recall.mean().item(),_prec.mean().item(),_f1.mean().item(),file=f)"
   ]
  },
  {
   "cell_type": "code",
   "execution_count": null,
   "metadata": {},
   "outputs": [
    {
     "name": "stderr",
     "output_type": "stream",
     "text": [
      "/home/julian/.local/lib/python3.10/site-packages/tqdm/auto.py:21: TqdmWarning: IProgress not found. Please update jupyter and ipywidgets. See https://ipywidgets.readthedocs.io/en/stable/user_install.html\n",
      "  from .autonotebook import tqdm as notebook_tqdm\n"
     ]
    }
   ],
   "source": [
    "import numpy as np\n",
    "import networkx as nx\n",
    "import data,network,torch,pickle\n",
    "#import matplotlib.pyplot as plt\n",
    "#import torch_geometric.utils as utils\n",
    "#import torch.nn.functional as F\n",
    "#from torch_geometric.utils import to_networkx\n",
    "#from torch_geometric.loader import DataLoader as batchLoader\n"
   ]
  },
  {
   "cell_type": "code",
   "execution_count": 11,
   "metadata": {},
   "outputs": [],
   "source": [
    "from torch_geometric.utils import to_dense_adj"
   ]
  },
  {
   "cell_type": "code",
   "execution_count": null,
   "metadata": {},
   "outputs": [
    {
     "name": "stderr",
     "output_type": "stream",
     "text": [
      "/home/julian/.local/lib/python3.10/site-packages/tqdm/auto.py:21: TqdmWarning: IProgress not found. Please update jupyter and ipywidgets. See https://ipywidgets.readthedocs.io/en/stable/user_install.html\n",
      "  from .autonotebook import tqdm as notebook_tqdm\n"
     ]
    }
   ],
   "source": [
    "import numpy as np\n",
    "from glob import glob\n",
    "from scipy.io import loadmat\n",
    "import torch\n",
    "from sklearn import neighbors as nb\n",
    "import torch_geometric.utils as utils\n",
    "#from torch_geometric.data import Data\n",
    "#mport pandas as pd\n"
   ]
  }
 ],
 "metadata": {
  "kernelspec": {
   "display_name": "Python 3 (ipykernel)",
   "language": "python",
   "name": "python3"
  },
  "language_info": {
   "codemirror_mode": {
    "name": "ipython",
    "version": 3
   },
   "file_extension": ".py",
   "mimetype": "text/x-python",
   "name": "python",
   "nbconvert_exporter": "python",
   "pygments_lexer": "ipython3",
   "version": "3.12.3"
  },
  "vscode": {
   "interpreter": {
    "hash": "b0fa6594d8f4cbf19f97940f81e996739fb7646882a419484c72d19e05852a7e"
   }
  }
 },
 "nbformat": 4,
 "nbformat_minor": 4
}
